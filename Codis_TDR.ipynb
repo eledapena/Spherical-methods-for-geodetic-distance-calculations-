{
  "nbformat": 4,
  "nbformat_minor": 0,
  "metadata": {
    "colab": {
      "name": "Codis TDR",
      "provenance": [],
      "authorship_tag": "ABX9TyOAcRoRkoEh9iPMXhEbzRCa",
      "include_colab_link": true
    },
    "kernelspec": {
      "name": "python3",
      "display_name": "Python 3"
    },
    "language_info": {
      "name": "python"
    }
  },
  "cells": [
    {
      "cell_type": "markdown",
      "metadata": {
        "id": "view-in-github",
        "colab_type": "text"
      },
      "source": [
        "<a href=\"https://colab.research.google.com/github/eledapena/Spherical-methods-for-geodetic-distance-calculations-/blob/main/Codis_TDR.ipynb\" target=\"_parent\"><img src=\"https://colab.research.google.com/assets/colab-badge.svg\" alt=\"Open In Colab\"/></a>"
      ]
    },
    {
      "cell_type": "code",
      "metadata": {
        "colab": {
          "base_uri": "https://localhost:8080/"
        },
        "id": "rSCZ27dcJrU3",
        "outputId": "966cd81c-6829-4fbe-a18f-bdc9601ba13e"
      },
      "source": [
        "'''Equirectangular Method'''\n",
        "from math import cos, sqrt, radians\n",
        "\n",
        "lat1 = 43.202293\n",
        "lon1 = 2.662486\n",
        "lat2 = 15.814618\n",
        "lon2 = -5.033192\n",
        "lon1, lat1, lon2, lat2 = map(radians, [lon1, lat1, lon2, lat2])\n",
        "R = 6371\n",
        "\n",
        "x = abs(lon2 - lon1) * cos((lat1 + lat2)/2)\n",
        "y = abs(lat2 - lat1)\n",
        "print(x)\n",
        "print(y)\n",
        "equirectangular_distance = sqrt(x**2 + y**2)*R\n",
        "print(equirectangular_distance)"
      ],
      "execution_count": null,
      "outputs": [
        {
          "output_type": "stream",
          "name": "stdout",
          "text": [
            "0.1168919930937785\n",
            "0.478005103216138\n",
            "3135.105704932039\n"
          ]
        }
      ]
    },
    {
      "cell_type": "code",
      "metadata": {
        "colab": {
          "base_uri": "https://localhost:8080/"
        },
        "id": "DbR5nwamXK4H",
        "outputId": "d63f31ef-6a2e-46cb-f6f2-598dbe546ecd"
      },
      "source": [
        "'''Rhumbline Method'''\n",
        "from math import cos, sqrt, radians, log, pi, tan\n",
        "\n",
        "lat1 = 43.202293\n",
        "lon1 = 2.662486\n",
        "lat2 = 15.814618\n",
        "lon2 = -5.033192\n",
        "lon1, lat1, lon2, lat2 = map(radians, [lon1, lat1, lon2, lat2])\n",
        "R = 6371\n",
        "\n",
        "dGam = log(tan(1/4*pi + 1/2*lat2)/tan(1/4*pi + 1/2*lat1))\n",
        "print(dGam)\n",
        "dLat = abs(lat2 - lat1)\n",
        "print(dLat)\n",
        "dLon = abs(lon2 - lon1)\n",
        "print(dLon)\n",
        "q = dLat/dGam\n",
        "\n",
        "rhumbline_distance = sqrt(dLat**2 + (q**2)*(dLon**2))*R\n",
        "print(rhumbline_distance)"
      ],
      "execution_count": null,
      "outputs": [
        {
          "output_type": "stream",
          "name": "stdout",
          "text": [
            "-0.5580860620136793\n",
            "0.478005103216138\n",
            "0.13431491927329217\n",
            "3132.326567006972\n"
          ]
        }
      ]
    },
    {
      "cell_type": "code",
      "metadata": {
        "colab": {
          "base_uri": "https://localhost:8080/"
        },
        "id": "tX0RtMuWccR_",
        "outputId": "0c62eca0-25b5-4fb5-a387-57b1c97286ed"
      },
      "source": [
        "'''Chordline Method'''\n",
        "from math import cos, sqrt, radians, log, pi, tan, asin, sin\n",
        "\n",
        "lat1 = 43.202293\n",
        "lon1 = 2.662486\n",
        "lat2 = 15.814618\n",
        "lon2 = -5.033192\n",
        "lon1, lat1, lon2, lat2 = map(radians, [lon1, lat1, lon2, lat2])\n",
        "R = 6371\n",
        "\n",
        "Dx = cos(lat2)*cos(lon2) - cos(lat1)*cos(lon1)\n",
        "print(Dx)\n",
        "Dy = cos(lat2)*sin(lon2) - cos(lat1)*sin(lon1)\n",
        "print(Dy)\n",
        "Dz = sin(lat2) - sin(lat1)\n",
        "print(Dz)\n",
        "\n",
        "SqrtDxDyDz = sqrt(Dx**2 + Dy**2 + Dz**2)\n",
        "\n",
        "chordline_distance = R*2*asin(SqrtDxDyDz/2)\n",
        "print(chordline_distance)"
      ],
      "execution_count": null,
      "outputs": [
        {
          "output_type": "stream",
          "name": "stdout",
          "text": [
            "0.23028414792045027\n",
            "-0.11827310116222756\n",
            "-0.4120505479976519\n",
            "3131.7300230393907\n"
          ]
        }
      ]
    },
    {
      "cell_type": "code",
      "metadata": {
        "colab": {
          "base_uri": "https://localhost:8080/"
        },
        "id": "SYKr3gRvsTGc",
        "outputId": "dff7f467-8344-4481-d759-1dfb9d74198d"
      },
      "source": [
        "'''Haversine method (arcsin)'''\n",
        "from math import radians, cos, sin, asin, sqrt\n",
        "\n",
        "lon1 = 2.662486\n",
        "lat1 = 43.202293\n",
        "lon2 = -5.033192\n",
        "lat2 = 15.814618 \n",
        "lon1, lat1, lon2, lat2 = map(radians, [lon1, lat1, lon2, lat2])\n",
        "R = 6371\n",
        "\n",
        "dlon = abs(lon2 - lon1)\n",
        "dlat = abs(lat2 - lat1) \n",
        "a = sin(dlat/2)**2 + cos(lat1) * cos(lat2) * sin(dlon/2)**2\n",
        "c = 2 * asin(min(1,sqrt(a))) \n",
        "\n",
        "print(c * R)"
      ],
      "execution_count": null,
      "outputs": [
        {
          "output_type": "stream",
          "name": "stdout",
          "text": [
            "3131.7300230393907\n"
          ]
        }
      ]
    },
    {
      "cell_type": "code",
      "metadata": {
        "colab": {
          "base_uri": "https://localhost:8080/"
        },
        "id": "N_JLLI5jhIO_",
        "outputId": "5acaf827-5ae6-4613-b04f-10dfb0b06e2d"
      },
      "source": [
        "'''Haversine method (arctan)'''\n",
        "from math import radians, cos, sin, sqrt, atan\n",
        "\n",
        "lon1 = 2.662486\n",
        "lat1 = 43.202293\n",
        "lon2 = -5.033192\n",
        "lat2 = 15.814618 \n",
        "lon1, lat1, lon2, lat2 = map(radians, [lon1, lat1, lon2, lat2])\n",
        "R = 6371\n",
        "\n",
        "dlon = abs(lon2 - lon1)\n",
        "dlat = abs(lat2 - lat1) \n",
        "a = sin(dlat/2)**2 + cos(lat1) * cos(lat2) * sin(dlon/2)**2\n",
        "c = 2 * atan(sqrt(a)/sqrt(1-a)) \n",
        "\n",
        "print(c * R)"
      ],
      "execution_count": null,
      "outputs": [
        {
          "output_type": "stream",
          "name": "stdout",
          "text": [
            "3131.7300230393907\n"
          ]
        }
      ]
    },
    {
      "cell_type": "code",
      "metadata": {
        "colab": {
          "base_uri": "https://localhost:8080/"
        },
        "id": "fgqVibuXVAbz",
        "outputId": "d6a431ef-6c67-4410-82ac-5d9775cb5199"
      },
      "source": [
        "'''Spherical Law of cosines'''\n",
        "from math import radians, cos, sin, acos, sqrt, pi\n",
        "\n",
        "lon1 = 2.662486\n",
        "lat1 = 43.202293\n",
        "lon2 = -5.033192\n",
        "lat2 = 15.814618\n",
        "lon1, lat1, lon2, lat2 = map(radians, [lon1, lat1, lon2, lat2])\n",
        "R = 6371\n",
        "\n",
        "a = sin(lat1) * sin(lat2) + cos(lat1) * cos(lat2) * cos(abs(lon1 - lon2))\n",
        "b = acos(a)\n",
        "c = b*R\n",
        "\n",
        "print(c)"
      ],
      "execution_count": null,
      "outputs": [
        {
          "output_type": "stream",
          "name": "stdout",
          "text": [
            "3131.7300230393917\n"
          ]
        }
      ]
    },
    {
      "cell_type": "code",
      "metadata": {
        "colab": {
          "base_uri": "https://localhost:8080/"
        },
        "id": "Ql64-AIQRLou",
        "outputId": "a50cdb1c-327b-45bc-e8dd-5463ddb7b110"
      },
      "source": [
        "!pip3 install vincenty\n",
        "from vincenty import vincenty\n",
        "pt1 = (43.202293, 2.662486)\n",
        "pt2 = (15.914618, -5.033192)\n",
        "print(vincenty(pt1, pt2))\n",
        "\n",
        "#https://pypi.org/project/vincenty/\n"
      ],
      "execution_count": null,
      "outputs": [
        {
          "output_type": "stream",
          "name": "stdout",
          "text": [
            "Collecting vincenty\n",
            "  Downloading vincenty-0.1.4.tar.gz (2.8 kB)\n",
            "Building wheels for collected packages: vincenty\n",
            "  Building wheel for vincenty (setup.py) ... \u001b[?25l\u001b[?25hdone\n",
            "  Created wheel for vincenty: filename=vincenty-0.1.4-py3-none-any.whl size=3080 sha256=1cae65c94dfe008dc66e18a04d5f51ee41707214f8db6ed033f008553d911b24\n",
            "  Stored in directory: /root/.cache/pip/wheels/2f/4d/df/6e2ce31c63c93508b38ed9098c1483e7616b55a6ddabcd2f5b\n",
            "Successfully built vincenty\n",
            "Installing collected packages: vincenty\n",
            "Successfully installed vincenty-0.1.4\n",
            "3112.188941\n"
          ]
        }
      ]
    }
  ]
}
